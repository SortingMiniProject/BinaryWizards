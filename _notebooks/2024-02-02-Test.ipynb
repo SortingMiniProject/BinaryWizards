{
 "cells": [
  {
   "cell_type": "markdown",
   "metadata": {},
   "source": [
    "---\n",
    "layout: notebook\n",
    "title: HTML Login\n",
    "toc: true\n",
    "---"
   ]
  },
  {
   "cell_type": "markdown",
   "metadata": {},
   "source": [
    "<div class=\"login-container\">\n",
    "    <div class=\"card\">\n",
    "        <h3>Login</h3>\n",
    "        <div class=\"Email\">\n",
    "            <input id=\"Emaillogin\" class=\"input\" placeholder=\"Email\">\n",
    "        </div>\n",
    "        <div class=\"Password\">\n",
    "            <input id=\"PasswordLogin\" class=\"input\" placeholder=\"Password\">\n",
    "        </div>\n",
    "        <div class=\"Buttons\">\n",
    "            <button class=\"LoginB\" onclick=\"person_login()\">Login</button>\n",
    "        </div>\n",
    "    </div>\n",
    "</div>"
   ]
  }
 ],
 "metadata": {
  "kernelspec": {
   "display_name": "Java",
   "language": "java",
   "name": "java"
  },
  "language_info": {
   "codemirror_mode": "java",
   "file_extension": ".jshell",
   "mimetype": "text/x-java-source",
   "name": "java",
   "pygments_lexer": "java",
   "version": "11.0.21+9-post-Ubuntu-0ubuntu122.04"
  }
 },
 "nbformat": 4,
 "nbformat_minor": 2
}
